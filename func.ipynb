{
 "cells": [
  {
   "metadata": {
    "ExecuteTime": {
     "end_time": "2025-02-12T05:50:23.327589Z",
     "start_time": "2025-02-12T05:50:20.134569Z"
    }
   },
   "cell_type": "code",
   "source": "import torch",
   "id": "691cdb5d76e96ee",
   "outputs": [],
   "execution_count": 1
  },
  {
   "metadata": {
    "collapsed": true,
    "ExecuteTime": {
     "end_time": "2025-02-12T05:52:20.933676Z",
     "start_time": "2025-02-12T05:52:20.922269Z"
    }
   },
   "cell_type": "code",
   "outputs": [
    {
     "data": {
      "text/plain": [
       "tensor([[ 0,  1,  2,  3],\n",
       "        [ 4,  5,  6,  7],\n",
       "        [ 8,  9, 10, 11]])"
      ]
     },
     "execution_count": 5,
     "metadata": {},
     "output_type": "execute_result"
    }
   ],
   "execution_count": 5,
   "source": "X = x.reshape(-1, 4)  # -1 means that the dimension is unknown",
   "id": "initial_id"
  },
  {
   "metadata": {
    "ExecuteTime": {
     "end_time": "2025-02-12T06:05:26.741750Z",
     "start_time": "2025-02-12T06:05:26.713196Z"
    }
   },
   "cell_type": "code",
   "source": [
    "# dim: 0 means row, 1 means column\n",
    "(torch.cat((X, Y), dim=0),torch.cat((X, Y), dim=1))"
   ],
   "id": "78c3faf39b18c2cd",
   "outputs": [
    {
     "data": {
      "text/plain": [
       "(tensor([[ 0.,  1.,  2.,  3.],\n",
       "         [ 4.,  5.,  6.,  7.],\n",
       "         [ 8.,  9., 10., 11.],\n",
       "         [ 2.,  1.,  4.,  3.],\n",
       "         [ 1.,  2.,  3.,  4.],\n",
       "         [ 4.,  3.,  2.,  1.]]),\n",
       " tensor([[ 0.,  1.,  2.,  3.,  2.,  1.,  4.,  3.],\n",
       "         [ 4.,  5.,  6.,  7.,  1.,  2.,  3.,  4.],\n",
       "         [ 8.,  9., 10., 11.,  4.,  3.,  2.,  1.]]))"
      ]
     },
     "execution_count": 11,
     "metadata": {},
     "output_type": "execute_result"
    }
   ],
   "execution_count": 11
  },
  {
   "metadata": {
    "ExecuteTime": {
     "end_time": "2025-02-12T06:12:12.850711Z",
     "start_time": "2025-02-12T06:12:12.830263Z"
    }
   },
   "cell_type": "code",
   "source": [
    "# 行和列的概念\n",
    "X[0:2, :] = 12\n",
    "X"
   ],
   "id": "9cbd634929a6ee2d",
   "outputs": [
    {
     "data": {
      "text/plain": [
       "tensor([[12., 12., 12., 12.],\n",
       "        [12., 12., 12., 12.],\n",
       "        [ 8.,  9., 10., 11.]])"
      ]
     },
     "execution_count": 12,
     "metadata": {},
     "output_type": "execute_result"
    }
   ],
   "execution_count": 12
  },
  {
   "metadata": {},
   "cell_type": "markdown",
   "source": "深度学习中总是执行原地操作",
   "id": "476350e590b81de9"
  },
  {
   "metadata": {},
   "cell_type": "code",
   "outputs": [],
   "execution_count": null,
   "source": [
    "Z = torch.zeros_like(Y)\n",
    "Z[:] = X + Y"
   ],
   "id": "9f3eb93fae8a6885"
  },
  {
   "metadata": {},
   "cell_type": "markdown",
   "source": "",
   "id": "49de3bd3f82a9587"
  },
  {
   "metadata": {
    "ExecuteTime": {
     "end_time": "2025-02-12T06:36:05.712469Z",
     "start_time": "2025-02-12T06:36:05.703356Z"
    }
   },
   "cell_type": "code",
   "source": [
    "import os\n",
    "\n",
    "os.makedirs(os.path.join('..', 'data'), exist_ok=True)\n",
    "data_file = os.path.join('..', 'data', 'house_tiny.csv')\n",
    "with open(data_file, 'w') as f:\n",
    "    f.write('NumRooms,Alley,Price\\n')  # 列名\n",
    "    f.write('NA,Pave,127500\\n')  # 每行表示一个数据样本\n",
    "    f.write('2,NA,106000\\n')\n",
    "    f.write('4,NA,178100\\n')\n",
    "    f.write('NA,NA,140000\\n')"
   ],
   "id": "7cd74d4a8abe8c55",
   "outputs": [],
   "execution_count": 13
  },
  {
   "metadata": {
    "ExecuteTime": {
     "end_time": "2025-02-12T06:52:26.849467Z",
     "start_time": "2025-02-12T06:52:26.822556Z"
    }
   },
   "cell_type": "code",
   "source": [
    "import pandas as pd\n",
    "\n",
    "data = pd.read_csv(data_file)\n",
    "print(data)"
   ],
   "id": "4e57f1ecf6841e38",
   "outputs": [
    {
     "name": "stdout",
     "output_type": "stream",
     "text": [
      "   NumRooms Alley   Price\n",
      "0       NaN  Pave  127500\n",
      "1       2.0   NaN  106000\n",
      "2       4.0   NaN  178100\n",
      "3       NaN   NaN  140000\n"
     ]
    }
   ],
   "execution_count": 30
  },
  {
   "metadata": {
    "ExecuteTime": {
     "end_time": "2025-02-12T06:58:23.720398Z",
     "start_time": "2025-02-12T06:58:23.715162Z"
    }
   },
   "cell_type": "code",
   "source": [
    "inputs, outputs = data.iloc[:, 0:2], data.iloc[:, 2]\n",
    "inputs = inputs.fillna(inputs.mean(numeric_only=True))\n",
    "print(inputs)"
   ],
   "id": "32c9a355a7b716f3",
   "outputs": [
    {
     "name": "stdout",
     "output_type": "stream",
     "text": [
      "   NumRooms Alley\n",
      "0       3.0  Pave\n",
      "1       2.0   NaN\n",
      "2       4.0   NaN\n",
      "3       3.0   NaN\n"
     ]
    }
   ],
   "execution_count": 43
  },
  {
   "metadata": {
    "ExecuteTime": {
     "end_time": "2025-02-12T06:58:25.777125Z",
     "start_time": "2025-02-12T06:58:25.770336Z"
    }
   },
   "cell_type": "code",
   "source": [
    "inputs = pd.get_dummies(inputs, dummy_na=True)\n",
    "print(inputs)"
   ],
   "id": "2394f76ee21a8fcf",
   "outputs": [
    {
     "name": "stdout",
     "output_type": "stream",
     "text": [
      "   NumRooms  Alley_Pave  Alley_nan\n",
      "0       3.0        True      False\n",
      "1       2.0       False       True\n",
      "2       4.0       False       True\n",
      "3       3.0       False       True\n"
     ]
    }
   ],
   "execution_count": 44
  },
  {
   "metadata": {},
   "cell_type": "markdown",
   "source": "",
   "id": "9920637b815eaccf"
  },
  {
   "metadata": {
    "ExecuteTime": {
     "end_time": "2025-02-12T07:50:13.414806Z",
     "start_time": "2025-02-12T07:50:13.386633Z"
    }
   },
   "cell_type": "code",
   "source": [
    "import pandas as pd\n",
    "import numpy as np\n",
    "import torch\n",
    "\n",
    "np.random.seed(42)\n",
    "\n",
    "# 创建一个包含更多行和列的模拟数据集\n",
    "rows = 100  # 100行数据\n",
    "cols = 50   # 50列特征\n",
    "\n",
    "# 使用 NaN 和随机数填充数据集\n",
    "data = np.random.rand(rows, cols)\n",
    "data[data < 0.2] = np.nan  # 将 20% 的数据设为 NaN\n",
    "\n",
    "# 创建 DataFrame\n",
    "df = pd.DataFrame(data, columns=[f'Feature_{i+1}' for i in range(cols)])\n",
    "df"
   ],
   "id": "ad61ece4948f59",
   "outputs": [
    {
     "data": {
      "text/plain": [
       "    Feature_1  Feature_2  Feature_3  Feature_4  Feature_5  Feature_6  \\\n",
       "0    0.374540   0.950714   0.731994   0.598658        NaN        NaN   \n",
       "1    0.969585   0.775133   0.939499   0.894827   0.597900   0.921874   \n",
       "2         NaN   0.636410   0.314356   0.508571   0.907566   0.249292   \n",
       "3    0.908266   0.239562        NaN   0.489453   0.985650   0.242055   \n",
       "4    0.642032        NaN        NaN   0.898554   0.606429        NaN   \n",
       "..        ...        ...        ...        ...        ...        ...   \n",
       "95   0.341244   0.444183   0.675587   0.508894   0.861446   0.866036   \n",
       "96        NaN        NaN   0.909430        NaN   0.821250   0.544631   \n",
       "97   0.981258   0.381616   0.775235   0.342591   0.627669        NaN   \n",
       "98        NaN   0.483860        NaN   0.307679   0.926060        NaN   \n",
       "99   0.395053        NaN   0.401876   0.673756   0.450350   0.748963   \n",
       "\n",
       "    Feature_7  Feature_8  Feature_9  Feature_10  ...  Feature_41  Feature_42  \\\n",
       "0         NaN   0.866176   0.601115    0.708073  ...         NaN    0.495177   \n",
       "1         NaN        NaN        NaN    0.325330  ...         NaN    0.713245   \n",
       "2    0.410383   0.755551   0.228798         NaN  ...    0.962447    0.251782   \n",
       "3    0.672136   0.761620   0.237638    0.728216  ...         NaN    0.897216   \n",
       "4         NaN   0.663502        NaN         NaN  ...    0.940459    0.953929   \n",
       "..        ...        ...        ...         ...  ...         ...         ...   \n",
       "95        NaN   0.778046   0.460734    0.988841  ...         NaN    0.953403   \n",
       "96        NaN   0.955448   0.246961    0.859645  ...    0.955649    0.953633   \n",
       "97        NaN   0.938064   0.917647    0.887469  ...    0.316101         NaN   \n",
       "98   0.965832   0.205794   0.741566    0.546677  ...    0.341849    0.433694   \n",
       "99   0.356982   0.634744        NaN    0.749369  ...    0.975410    0.573563   \n",
       "\n",
       "    Feature_43  Feature_44  Feature_45  Feature_46  Feature_47  Feature_48  \\\n",
       "0          NaN    0.909320    0.258780    0.662522    0.311711    0.520068   \n",
       "1     0.760785    0.561277    0.770967    0.493796    0.522733    0.427541   \n",
       "2     0.497249    0.300878    0.284840         NaN    0.609564    0.502679   \n",
       "3     0.900418    0.633101    0.339030    0.349210    0.725956    0.897110   \n",
       "4     0.914864    0.370159         NaN    0.928319    0.428184    0.966655   \n",
       "..         ...         ...         ...         ...         ...         ...   \n",
       "95         NaN    0.297650    0.298066    0.320401         NaN    0.783161   \n",
       "96    0.352327         NaN         NaN    0.392218    0.947780         NaN   \n",
       "97    0.609813    0.240804    0.386807         NaN         NaN    0.297977   \n",
       "98    0.848472    0.363255    0.793935    0.940992    0.623210    0.741627   \n",
       "99    0.341641    0.648465         NaN    0.897397         NaN    0.327843   \n",
       "\n",
       "    Feature_49  Feature_50  \n",
       "0     0.546710         NaN  \n",
       "1          NaN         NaN  \n",
       "2          NaN    0.278646  \n",
       "3     0.887086    0.779876  \n",
       "4     0.963620    0.853009  \n",
       "..         ...         ...  \n",
       "95         NaN    0.634907  \n",
       "96    0.763516         NaN  \n",
       "97         NaN    0.910826  \n",
       "98    0.805097    0.845040  \n",
       "99    0.815745    0.597312  \n",
       "\n",
       "[100 rows x 50 columns]"
      ],
      "text/html": [
       "<div>\n",
       "<style scoped>\n",
       "    .dataframe tbody tr th:only-of-type {\n",
       "        vertical-align: middle;\n",
       "    }\n",
       "\n",
       "    .dataframe tbody tr th {\n",
       "        vertical-align: top;\n",
       "    }\n",
       "\n",
       "    .dataframe thead th {\n",
       "        text-align: right;\n",
       "    }\n",
       "</style>\n",
       "<table border=\"1\" class=\"dataframe\">\n",
       "  <thead>\n",
       "    <tr style=\"text-align: right;\">\n",
       "      <th></th>\n",
       "      <th>Feature_1</th>\n",
       "      <th>Feature_2</th>\n",
       "      <th>Feature_3</th>\n",
       "      <th>Feature_4</th>\n",
       "      <th>Feature_5</th>\n",
       "      <th>Feature_6</th>\n",
       "      <th>Feature_7</th>\n",
       "      <th>Feature_8</th>\n",
       "      <th>Feature_9</th>\n",
       "      <th>Feature_10</th>\n",
       "      <th>...</th>\n",
       "      <th>Feature_41</th>\n",
       "      <th>Feature_42</th>\n",
       "      <th>Feature_43</th>\n",
       "      <th>Feature_44</th>\n",
       "      <th>Feature_45</th>\n",
       "      <th>Feature_46</th>\n",
       "      <th>Feature_47</th>\n",
       "      <th>Feature_48</th>\n",
       "      <th>Feature_49</th>\n",
       "      <th>Feature_50</th>\n",
       "    </tr>\n",
       "  </thead>\n",
       "  <tbody>\n",
       "    <tr>\n",
       "      <th>0</th>\n",
       "      <td>0.374540</td>\n",
       "      <td>0.950714</td>\n",
       "      <td>0.731994</td>\n",
       "      <td>0.598658</td>\n",
       "      <td>NaN</td>\n",
       "      <td>NaN</td>\n",
       "      <td>NaN</td>\n",
       "      <td>0.866176</td>\n",
       "      <td>0.601115</td>\n",
       "      <td>0.708073</td>\n",
       "      <td>...</td>\n",
       "      <td>NaN</td>\n",
       "      <td>0.495177</td>\n",
       "      <td>NaN</td>\n",
       "      <td>0.909320</td>\n",
       "      <td>0.258780</td>\n",
       "      <td>0.662522</td>\n",
       "      <td>0.311711</td>\n",
       "      <td>0.520068</td>\n",
       "      <td>0.546710</td>\n",
       "      <td>NaN</td>\n",
       "    </tr>\n",
       "    <tr>\n",
       "      <th>1</th>\n",
       "      <td>0.969585</td>\n",
       "      <td>0.775133</td>\n",
       "      <td>0.939499</td>\n",
       "      <td>0.894827</td>\n",
       "      <td>0.597900</td>\n",
       "      <td>0.921874</td>\n",
       "      <td>NaN</td>\n",
       "      <td>NaN</td>\n",
       "      <td>NaN</td>\n",
       "      <td>0.325330</td>\n",
       "      <td>...</td>\n",
       "      <td>NaN</td>\n",
       "      <td>0.713245</td>\n",
       "      <td>0.760785</td>\n",
       "      <td>0.561277</td>\n",
       "      <td>0.770967</td>\n",
       "      <td>0.493796</td>\n",
       "      <td>0.522733</td>\n",
       "      <td>0.427541</td>\n",
       "      <td>NaN</td>\n",
       "      <td>NaN</td>\n",
       "    </tr>\n",
       "    <tr>\n",
       "      <th>2</th>\n",
       "      <td>NaN</td>\n",
       "      <td>0.636410</td>\n",
       "      <td>0.314356</td>\n",
       "      <td>0.508571</td>\n",
       "      <td>0.907566</td>\n",
       "      <td>0.249292</td>\n",
       "      <td>0.410383</td>\n",
       "      <td>0.755551</td>\n",
       "      <td>0.228798</td>\n",
       "      <td>NaN</td>\n",
       "      <td>...</td>\n",
       "      <td>0.962447</td>\n",
       "      <td>0.251782</td>\n",
       "      <td>0.497249</td>\n",
       "      <td>0.300878</td>\n",
       "      <td>0.284840</td>\n",
       "      <td>NaN</td>\n",
       "      <td>0.609564</td>\n",
       "      <td>0.502679</td>\n",
       "      <td>NaN</td>\n",
       "      <td>0.278646</td>\n",
       "    </tr>\n",
       "    <tr>\n",
       "      <th>3</th>\n",
       "      <td>0.908266</td>\n",
       "      <td>0.239562</td>\n",
       "      <td>NaN</td>\n",
       "      <td>0.489453</td>\n",
       "      <td>0.985650</td>\n",
       "      <td>0.242055</td>\n",
       "      <td>0.672136</td>\n",
       "      <td>0.761620</td>\n",
       "      <td>0.237638</td>\n",
       "      <td>0.728216</td>\n",
       "      <td>...</td>\n",
       "      <td>NaN</td>\n",
       "      <td>0.897216</td>\n",
       "      <td>0.900418</td>\n",
       "      <td>0.633101</td>\n",
       "      <td>0.339030</td>\n",
       "      <td>0.349210</td>\n",
       "      <td>0.725956</td>\n",
       "      <td>0.897110</td>\n",
       "      <td>0.887086</td>\n",
       "      <td>0.779876</td>\n",
       "    </tr>\n",
       "    <tr>\n",
       "      <th>4</th>\n",
       "      <td>0.642032</td>\n",
       "      <td>NaN</td>\n",
       "      <td>NaN</td>\n",
       "      <td>0.898554</td>\n",
       "      <td>0.606429</td>\n",
       "      <td>NaN</td>\n",
       "      <td>NaN</td>\n",
       "      <td>0.663502</td>\n",
       "      <td>NaN</td>\n",
       "      <td>NaN</td>\n",
       "      <td>...</td>\n",
       "      <td>0.940459</td>\n",
       "      <td>0.953929</td>\n",
       "      <td>0.914864</td>\n",
       "      <td>0.370159</td>\n",
       "      <td>NaN</td>\n",
       "      <td>0.928319</td>\n",
       "      <td>0.428184</td>\n",
       "      <td>0.966655</td>\n",
       "      <td>0.963620</td>\n",
       "      <td>0.853009</td>\n",
       "    </tr>\n",
       "    <tr>\n",
       "      <th>...</th>\n",
       "      <td>...</td>\n",
       "      <td>...</td>\n",
       "      <td>...</td>\n",
       "      <td>...</td>\n",
       "      <td>...</td>\n",
       "      <td>...</td>\n",
       "      <td>...</td>\n",
       "      <td>...</td>\n",
       "      <td>...</td>\n",
       "      <td>...</td>\n",
       "      <td>...</td>\n",
       "      <td>...</td>\n",
       "      <td>...</td>\n",
       "      <td>...</td>\n",
       "      <td>...</td>\n",
       "      <td>...</td>\n",
       "      <td>...</td>\n",
       "      <td>...</td>\n",
       "      <td>...</td>\n",
       "      <td>...</td>\n",
       "      <td>...</td>\n",
       "    </tr>\n",
       "    <tr>\n",
       "      <th>95</th>\n",
       "      <td>0.341244</td>\n",
       "      <td>0.444183</td>\n",
       "      <td>0.675587</td>\n",
       "      <td>0.508894</td>\n",
       "      <td>0.861446</td>\n",
       "      <td>0.866036</td>\n",
       "      <td>NaN</td>\n",
       "      <td>0.778046</td>\n",
       "      <td>0.460734</td>\n",
       "      <td>0.988841</td>\n",
       "      <td>...</td>\n",
       "      <td>NaN</td>\n",
       "      <td>0.953403</td>\n",
       "      <td>NaN</td>\n",
       "      <td>0.297650</td>\n",
       "      <td>0.298066</td>\n",
       "      <td>0.320401</td>\n",
       "      <td>NaN</td>\n",
       "      <td>0.783161</td>\n",
       "      <td>NaN</td>\n",
       "      <td>0.634907</td>\n",
       "    </tr>\n",
       "    <tr>\n",
       "      <th>96</th>\n",
       "      <td>NaN</td>\n",
       "      <td>NaN</td>\n",
       "      <td>0.909430</td>\n",
       "      <td>NaN</td>\n",
       "      <td>0.821250</td>\n",
       "      <td>0.544631</td>\n",
       "      <td>NaN</td>\n",
       "      <td>0.955448</td>\n",
       "      <td>0.246961</td>\n",
       "      <td>0.859645</td>\n",
       "      <td>...</td>\n",
       "      <td>0.955649</td>\n",
       "      <td>0.953633</td>\n",
       "      <td>0.352327</td>\n",
       "      <td>NaN</td>\n",
       "      <td>NaN</td>\n",
       "      <td>0.392218</td>\n",
       "      <td>0.947780</td>\n",
       "      <td>NaN</td>\n",
       "      <td>0.763516</td>\n",
       "      <td>NaN</td>\n",
       "    </tr>\n",
       "    <tr>\n",
       "      <th>97</th>\n",
       "      <td>0.981258</td>\n",
       "      <td>0.381616</td>\n",
       "      <td>0.775235</td>\n",
       "      <td>0.342591</td>\n",
       "      <td>0.627669</td>\n",
       "      <td>NaN</td>\n",
       "      <td>NaN</td>\n",
       "      <td>0.938064</td>\n",
       "      <td>0.917647</td>\n",
       "      <td>0.887469</td>\n",
       "      <td>...</td>\n",
       "      <td>0.316101</td>\n",
       "      <td>NaN</td>\n",
       "      <td>0.609813</td>\n",
       "      <td>0.240804</td>\n",
       "      <td>0.386807</td>\n",
       "      <td>NaN</td>\n",
       "      <td>NaN</td>\n",
       "      <td>0.297977</td>\n",
       "      <td>NaN</td>\n",
       "      <td>0.910826</td>\n",
       "    </tr>\n",
       "    <tr>\n",
       "      <th>98</th>\n",
       "      <td>NaN</td>\n",
       "      <td>0.483860</td>\n",
       "      <td>NaN</td>\n",
       "      <td>0.307679</td>\n",
       "      <td>0.926060</td>\n",
       "      <td>NaN</td>\n",
       "      <td>0.965832</td>\n",
       "      <td>0.205794</td>\n",
       "      <td>0.741566</td>\n",
       "      <td>0.546677</td>\n",
       "      <td>...</td>\n",
       "      <td>0.341849</td>\n",
       "      <td>0.433694</td>\n",
       "      <td>0.848472</td>\n",
       "      <td>0.363255</td>\n",
       "      <td>0.793935</td>\n",
       "      <td>0.940992</td>\n",
       "      <td>0.623210</td>\n",
       "      <td>0.741627</td>\n",
       "      <td>0.805097</td>\n",
       "      <td>0.845040</td>\n",
       "    </tr>\n",
       "    <tr>\n",
       "      <th>99</th>\n",
       "      <td>0.395053</td>\n",
       "      <td>NaN</td>\n",
       "      <td>0.401876</td>\n",
       "      <td>0.673756</td>\n",
       "      <td>0.450350</td>\n",
       "      <td>0.748963</td>\n",
       "      <td>0.356982</td>\n",
       "      <td>0.634744</td>\n",
       "      <td>NaN</td>\n",
       "      <td>0.749369</td>\n",
       "      <td>...</td>\n",
       "      <td>0.975410</td>\n",
       "      <td>0.573563</td>\n",
       "      <td>0.341641</td>\n",
       "      <td>0.648465</td>\n",
       "      <td>NaN</td>\n",
       "      <td>0.897397</td>\n",
       "      <td>NaN</td>\n",
       "      <td>0.327843</td>\n",
       "      <td>0.815745</td>\n",
       "      <td>0.597312</td>\n",
       "    </tr>\n",
       "  </tbody>\n",
       "</table>\n",
       "<p>100 rows × 50 columns</p>\n",
       "</div>"
      ]
     },
     "execution_count": 47,
     "metadata": {},
     "output_type": "execute_result"
    }
   ],
   "execution_count": 47
  },
  {
   "metadata": {
    "ExecuteTime": {
     "end_time": "2025-02-12T07:50:30.373356Z",
     "start_time": "2025-02-12T07:50:30.356871Z"
    }
   },
   "cell_type": "code",
   "source": [
    "\n",
    "# 计算每列缺失值的数量\n",
    "missing_counts = df.isna().sum()\n",
    "missing_counts"
   ],
   "id": "2e2fd495ce8d5f7a",
   "outputs": [
    {
     "data": {
      "text/plain": [
       "Feature_1     27\n",
       "Feature_2     23\n",
       "Feature_3     21\n",
       "Feature_4     16\n",
       "Feature_5     20\n",
       "Feature_6     24\n",
       "Feature_7     17\n",
       "Feature_8     20\n",
       "Feature_9     19\n",
       "Feature_10    23\n",
       "Feature_11    26\n",
       "Feature_12    19\n",
       "Feature_13    22\n",
       "Feature_14    20\n",
       "Feature_15    20\n",
       "Feature_16    16\n",
       "Feature_17    21\n",
       "Feature_18    27\n",
       "Feature_19    26\n",
       "Feature_20    19\n",
       "Feature_21    15\n",
       "Feature_22    25\n",
       "Feature_23    20\n",
       "Feature_24    16\n",
       "Feature_25    12\n",
       "Feature_26    15\n",
       "Feature_27    25\n",
       "Feature_28    17\n",
       "Feature_29    21\n",
       "Feature_30    16\n",
       "Feature_31    23\n",
       "Feature_32    17\n",
       "Feature_33    18\n",
       "Feature_34    22\n",
       "Feature_35    24\n",
       "Feature_36    19\n",
       "Feature_37    21\n",
       "Feature_38    22\n",
       "Feature_39    22\n",
       "Feature_40    21\n",
       "Feature_41    22\n",
       "Feature_42    18\n",
       "Feature_43    15\n",
       "Feature_44    15\n",
       "Feature_45    23\n",
       "Feature_46    18\n",
       "Feature_47    27\n",
       "Feature_48    29\n",
       "Feature_49    20\n",
       "Feature_50    25\n",
       "dtype: int64"
      ]
     },
     "execution_count": 48,
     "metadata": {},
     "output_type": "execute_result"
    }
   ],
   "execution_count": 48
  },
  {
   "metadata": {
    "ExecuteTime": {
     "end_time": "2025-02-12T07:51:25.784701Z",
     "start_time": "2025-02-12T07:51:25.774750Z"
    }
   },
   "cell_type": "code",
   "source": [
    "\n",
    "# 找出缺失值最多的列\n",
    "most_missing_column = missing_counts.idxmax()"
   ],
   "id": "a09d4109bd4dd072",
   "outputs": [],
   "execution_count": 49
  },
  {
   "metadata": {
    "ExecuteTime": {
     "end_time": "2025-02-12T07:51:36.828850Z",
     "start_time": "2025-02-12T07:51:36.824677Z"
    }
   },
   "cell_type": "code",
   "source": "most_missing_column",
   "id": "1334ea763515de0d",
   "outputs": [
    {
     "data": {
      "text/plain": [
       "'Feature_48'"
      ]
     },
     "execution_count": 50,
     "metadata": {},
     "output_type": "execute_result"
    }
   ],
   "execution_count": 50
  },
  {
   "metadata": {},
   "cell_type": "code",
   "outputs": [],
   "execution_count": null,
   "source": [
    "\n",
    "# 删除缺失值最多的列\n",
    "df_cleaned = df.drop(columns=[most_missing_column])\n",
    "\n",
    "# 使用 PyTorch 将清理后的 DataFrame 转换为张量\n",
    "tensor_data = torch.tensor(df_cleaned.values, dtype=torch.float32)\n",
    "\n",
    "# 或者使用 TensorFlow 将清理后的 DataFrame 转换为张量\n",
    "# tensor_data_tf = tf.convert_to_tensor(df_cleaned.values, dtype=tf.float32)\n",
    "\n",
    "# 打印张量数据\n",
    "print(tensor_data)  # 或者 print(tensor_data_tf)"
   ],
   "id": "66baaebe2251d660"
  },
  {
   "metadata": {},
   "cell_type": "markdown",
   "source": [
    "将每个数据样本作为矩阵中的行向量更为常见。例如，沿着张量的最外轴，我们可以访问或遍历小批量的数据样本\n",
    "\n",
    "Frobenius范数"
   ],
   "id": "796d508803877e76"
  },
  {
   "metadata": {},
   "cell_type": "code",
   "outputs": [],
   "execution_count": null,
   "source": [
    "torch.mv()\n",
    "torch.mm()"
   ],
   "id": "35d36d133ab996ea"
  },
  {
   "metadata": {},
   "cell_type": "markdown",
   "source": "",
   "id": "2b12c5a1f57071cd"
  },
  {
   "metadata": {
    "ExecuteTime": {
     "end_time": "2025-02-13T00:38:14.278935Z",
     "start_time": "2025-02-13T00:38:14.241089Z"
    }
   },
   "cell_type": "code",
   "source": [
    "A = torch.arange(40, dtype=torch.float32).reshape(2,4,5)\n",
    "A"
   ],
   "id": "c07dc75feac61ba2",
   "outputs": [
    {
     "data": {
      "text/plain": [
       "tensor([[[ 0.,  1.,  2.,  3.,  4.],\n",
       "         [ 5.,  6.,  7.,  8.,  9.],\n",
       "         [10., 11., 12., 13., 14.],\n",
       "         [15., 16., 17., 18., 19.]],\n",
       "\n",
       "        [[20., 21., 22., 23., 24.],\n",
       "         [25., 26., 27., 28., 29.],\n",
       "         [30., 31., 32., 33., 34.],\n",
       "         [35., 36., 37., 38., 39.]]])"
      ]
     },
     "execution_count": 66,
     "metadata": {},
     "output_type": "execute_result"
    }
   ],
   "execution_count": 66
  },
  {
   "metadata": {
    "ExecuteTime": {
     "end_time": "2025-02-13T00:33:35.439873Z",
     "start_time": "2025-02-13T00:33:35.366641Z"
    }
   },
   "cell_type": "code",
   "source": "A/A.sum(axis=1)",
   "id": "92e6e56b915f769a",
   "outputs": [
    {
     "ename": "RuntimeError",
     "evalue": "The size of tensor a (10) must match the size of tensor b (4) at non-singleton dimension 1",
     "output_type": "error",
     "traceback": [
      "\u001B[0;31m---------------------------------------------------------------------------\u001B[0m",
      "\u001B[0;31mRuntimeError\u001B[0m                              Traceback (most recent call last)",
      "Cell \u001B[0;32mIn[65], line 1\u001B[0m\n\u001B[0;32m----> 1\u001B[0m A\u001B[38;5;241m/\u001B[39mA\u001B[38;5;241m.\u001B[39msum(axis\u001B[38;5;241m=\u001B[39m\u001B[38;5;241m1\u001B[39m)\n",
      "\u001B[0;31mRuntimeError\u001B[0m: The size of tensor a (10) must match the size of tensor b (4) at non-singleton dimension 1"
     ]
    }
   ],
   "execution_count": 65
  },
  {
   "metadata": {
    "ExecuteTime": {
     "end_time": "2025-02-13T00:38:58.756967Z",
     "start_time": "2025-02-13T00:38:58.752395Z"
    }
   },
   "cell_type": "code",
   "source": "np.linalg.norm(A, axis=(2))",
   "id": "16eb5edb4a1701bb",
   "outputs": [
    {
     "data": {
      "text/plain": [
       "array([[ 5.477226 , 15.9687195, 27.018513 , 38.144463 ],\n",
       "       [49.29503  , 60.456596 , 71.624016 , 82.79493  ]], dtype=float32)"
      ]
     },
     "execution_count": 68,
     "metadata": {},
     "output_type": "execute_result"
    }
   ],
   "execution_count": 68
  },
  {
   "metadata": {
    "ExecuteTime": {
     "end_time": "2025-02-13T00:30:49.840792Z",
     "start_time": "2025-02-13T00:30:49.837463Z"
    }
   },
   "cell_type": "code",
   "source": "A.shape",
   "id": "aa5e28532d7ab6b0",
   "outputs": [
    {
     "data": {
      "text/plain": [
       "torch.Size([2, 5, 4])"
      ]
     },
     "execution_count": 59,
     "metadata": {},
     "output_type": "execute_result"
    }
   ],
   "execution_count": 59
  },
  {
   "metadata": {
    "ExecuteTime": {
     "end_time": "2025-02-13T01:37:16.925915Z",
     "start_time": "2025-02-13T01:37:16.920602Z"
    }
   },
   "cell_type": "code",
   "source": [
    "def f(x):\n",
    "    return 3 * x ** 2 - 4 * x\n",
    "def numerical_lim(f, x, h):\n",
    "    return (f(x + h) - f(x)) / h\n",
    "x = np.arange(0, 3, 0.1)"
   ],
   "id": "1160141175e69ac4",
   "outputs": [],
   "execution_count": 71
  },
  {
   "metadata": {
    "ExecuteTime": {
     "end_time": "2025-02-13T01:41:22.048256Z",
     "start_time": "2025-02-13T01:41:21.943194Z"
    }
   },
   "cell_type": "code",
   "source": [
    "import numpy as np\n",
    "import matplotlib.pyplot as plt\n",
    "\n",
    "# 定义函数\n",
    "def f(x):\n",
    "    return x ** 3 - 1 / x\n",
    "\n",
    "# 数值导数（近似求导）\n",
    "def numerical_lim(f, x, h=1e-5):\n",
    "    return (f(x + h) - f(x)) / h\n",
    "\n",
    "# 计算 f(x) 在 x=1 处的值和导数\n",
    "x_tangent = 1\n",
    "f_at_1 = f(x_tangent)  # f(1)\n",
    "f_prime_at_1 = numerical_lim(f, x_tangent)  # f'(1)\n",
    "\n",
    "# 计算切线方程：y = f'(1) * (x - 1) + f(1)\n",
    "def tangent_line(x):\n",
    "    return f_prime_at_1 * (x - x_tangent) + f_at_1\n",
    "\n",
    "# 创建 x 范围\n",
    "x_vals = np.arange(0, 3, 0.1)\n",
    "y_vals = f(x_vals)\n",
    "\n",
    "# 计算切线上的 y 值\n",
    "y_tangent_vals = tangent_line(x_vals)\n",
    "\n",
    "# 绘制 f(x) 和切线\n",
    "plt.plot(x_vals, y_vals, label=\"f(x) = 3x^2 - 4x\", color='b')\n",
    "plt.plot(x_vals, y_tangent_vals, label=\"Tangent at x=1\", color='r', linestyle='--')\n",
    "\n",
    "# 绘制切点\n",
    "plt.scatter(x_tangent, f_at_1, color='g', zorder=5)  # 标记切点\n",
    "plt.text(x_tangent, f_at_1 + 0.2, f'({x_tangent}, {f_at_1})', horizontalalignment='center')\n",
    "\n",
    "# 添加标签\n",
    "plt.title('Graph of f(x) and Tangent Line')\n",
    "plt.xlabel('x')\n",
    "plt.ylabel('y')\n",
    "plt.legend()\n",
    "\n",
    "# 显示图像\n",
    "plt.grid(True)\n",
    "plt.show()"
   ],
   "id": "db1b5d245f38b186",
   "outputs": [
    {
     "name": "stderr",
     "output_type": "stream",
     "text": [
      "/var/folders/zm/zhmj43q907q708ms86x5tlz00000gn/T/ipykernel_11523/1653554027.py:6: RuntimeWarning: divide by zero encountered in divide\n",
      "  return x ** 3 - 1 / x\n"
     ]
    },
    {
     "data": {
      "text/plain": [
       "<Figure size 640x480 with 1 Axes>"
      ],
      "image/png": "[encoded data removed]"
     },
     "metadata": {},
     "output_type": "display_data"
    }
   ],
   "execution_count": 73
  },
  {
   "metadata": {
    "ExecuteTime": {
     "end_time": "2025-02-13T01:33:28.005165Z",
     "start_time": "2025-02-13T01:33:28.000507Z"
    }
   },
   "cell_type": "code",
   "outputs": [
    {
     "name": "stdout",
     "output_type": "stream",
     "text": [
      "h=0.10000, numerical limit=2.30000\n",
      "h=0.01000, numerical limit=2.03000\n",
      "h=0.00100, numerical limit=2.00300\n",
      "h=0.00010, numerical limit=2.00030\n",
      "h=0.00001, numerical limit=2.00003\n"
     ]
    }
   ],
   "execution_count": 70,
   "source": [
    "h = 0.1\n",
    "for i in range(5):\n",
    "    print(f'h={h:.5f}, numerical limit={numerical_lim(f, 1, h):.5f}')\n",
    "    h *= 0.1"
   ],
   "id": "dcfca494affe59f2"
  },
  {
   "metadata": {
    "ExecuteTime": {
     "end_time": "2025-02-13T02:20:22.687885Z",
     "start_time": "2025-02-13T02:20:22.670843Z"
    }
   },
   "cell_type": "code",
   "source": [
    "import torch\n",
    "\n",
    "x = torch.arange(4.0)\n",
    "x.requires_grad_(True)  # 等价于x=torch.arange(4.0,requires_grad=True)\n",
    "y = 2 * torch.dot(x, x)\n",
    "y.backward()\n",
    "x.grad"
   ],
   "id": "7e750ada3dce480f",
   "outputs": [
    {
     "data": {
      "text/plain": [
       "tensor([ 0.,  4.,  8., 12.])"
      ]
     },
     "execution_count": 94,
     "metadata": {},
     "output_type": "execute_result"
    }
   ],
   "execution_count": 94
  },
  {
   "metadata": {
    "ExecuteTime": {
     "end_time": "2025-02-13T02:20:34.406244Z",
     "start_time": "2025-02-13T02:20:34.307635Z"
    }
   },
   "cell_type": "code",
   "source": [
    "y.backward()\n",
    "x.grad"
   ],
   "id": "1506c2fa599a6216",
   "outputs": [
    {
     "ename": "RuntimeError",
     "evalue": "Trying to backward through the graph a second time (or directly access saved tensors after they have already been freed). Saved intermediate values of the graph are freed when you call .backward() or autograd.grad(). Specify retain_graph=True if you need to backward through the graph a second time or if you need to access saved tensors after calling backward.",
     "output_type": "error",
     "traceback": [
      "\u001B[0;31m---------------------------------------------------------------------------\u001B[0m",
      "\u001B[0;31mRuntimeError\u001B[0m                              Traceback (most recent call last)",
      "Cell \u001B[0;32mIn[95], line 1\u001B[0m\n\u001B[0;32m----> 1\u001B[0m y\u001B[38;5;241m.\u001B[39mbackward()\n\u001B[1;32m      2\u001B[0m x\u001B[38;5;241m.\u001B[39mgrad\n",
      "File \u001B[0;32m/opt/anaconda3/lib/python3.11/site-packages/torch/_tensor.py:581\u001B[0m, in \u001B[0;36mTensor.backward\u001B[0;34m(self, gradient, retain_graph, create_graph, inputs)\u001B[0m\n\u001B[1;32m    571\u001B[0m \u001B[38;5;28;01mif\u001B[39;00m has_torch_function_unary(\u001B[38;5;28mself\u001B[39m):\n\u001B[1;32m    572\u001B[0m     \u001B[38;5;28;01mreturn\u001B[39;00m handle_torch_function(\n\u001B[1;32m    573\u001B[0m         Tensor\u001B[38;5;241m.\u001B[39mbackward,\n\u001B[1;32m    574\u001B[0m         (\u001B[38;5;28mself\u001B[39m,),\n\u001B[0;32m   (...)\u001B[0m\n\u001B[1;32m    579\u001B[0m         inputs\u001B[38;5;241m=\u001B[39minputs,\n\u001B[1;32m    580\u001B[0m     )\n\u001B[0;32m--> 581\u001B[0m torch\u001B[38;5;241m.\u001B[39mautograd\u001B[38;5;241m.\u001B[39mbackward(\n\u001B[1;32m    582\u001B[0m     \u001B[38;5;28mself\u001B[39m, gradient, retain_graph, create_graph, inputs\u001B[38;5;241m=\u001B[39minputs\n\u001B[1;32m    583\u001B[0m )\n",
      "File \u001B[0;32m/opt/anaconda3/lib/python3.11/site-packages/torch/autograd/__init__.py:347\u001B[0m, in \u001B[0;36mbackward\u001B[0;34m(tensors, grad_tensors, retain_graph, create_graph, grad_variables, inputs)\u001B[0m\n\u001B[1;32m    342\u001B[0m     retain_graph \u001B[38;5;241m=\u001B[39m create_graph\n\u001B[1;32m    344\u001B[0m \u001B[38;5;66;03m# The reason we repeat the same comment below is that\u001B[39;00m\n\u001B[1;32m    345\u001B[0m \u001B[38;5;66;03m# some Python versions print out the first line of a multi-line function\u001B[39;00m\n\u001B[1;32m    346\u001B[0m \u001B[38;5;66;03m# calls in the traceback and some print out the last line\u001B[39;00m\n\u001B[0;32m--> 347\u001B[0m _engine_run_backward(\n\u001B[1;32m    348\u001B[0m     tensors,\n\u001B[1;32m    349\u001B[0m     grad_tensors_,\n\u001B[1;32m    350\u001B[0m     retain_graph,\n\u001B[1;32m    351\u001B[0m     create_graph,\n\u001B[1;32m    352\u001B[0m     inputs,\n\u001B[1;32m    353\u001B[0m     allow_unreachable\u001B[38;5;241m=\u001B[39m\u001B[38;5;28;01mTrue\u001B[39;00m,\n\u001B[1;32m    354\u001B[0m     accumulate_grad\u001B[38;5;241m=\u001B[39m\u001B[38;5;28;01mTrue\u001B[39;00m,\n\u001B[1;32m    355\u001B[0m )\n",
      "File \u001B[0;32m/opt/anaconda3/lib/python3.11/site-packages/torch/autograd/graph.py:825\u001B[0m, in \u001B[0;36m_engine_run_backward\u001B[0;34m(t_outputs, *args, **kwargs)\u001B[0m\n\u001B[1;32m    823\u001B[0m     unregister_hooks \u001B[38;5;241m=\u001B[39m _register_logging_hooks_on_whole_graph(t_outputs)\n\u001B[1;32m    824\u001B[0m \u001B[38;5;28;01mtry\u001B[39;00m:\n\u001B[0;32m--> 825\u001B[0m     \u001B[38;5;28;01mreturn\u001B[39;00m Variable\u001B[38;5;241m.\u001B[39m_execution_engine\u001B[38;5;241m.\u001B[39mrun_backward(  \u001B[38;5;66;03m# Calls into the C++ engine to run the backward pass\u001B[39;00m\n\u001B[1;32m    826\u001B[0m         t_outputs, \u001B[38;5;241m*\u001B[39margs, \u001B[38;5;241m*\u001B[39m\u001B[38;5;241m*\u001B[39mkwargs\n\u001B[1;32m    827\u001B[0m     )  \u001B[38;5;66;03m# Calls into the C++ engine to run the backward pass\u001B[39;00m\n\u001B[1;32m    828\u001B[0m \u001B[38;5;28;01mfinally\u001B[39;00m:\n\u001B[1;32m    829\u001B[0m     \u001B[38;5;28;01mif\u001B[39;00m attach_logging_hooks:\n",
      "\u001B[0;31mRuntimeError\u001B[0m: Trying to backward through the graph a second time (or directly access saved tensors after they have already been freed). Saved intermediate values of the graph are freed when you call .backward() or autograd.grad(). Specify retain_graph=True if you need to backward through the graph a second time or if you need to access saved tensors after calling backward."
     ]
    }
   ],
   "execution_count": 95
  },
  {
   "metadata": {
    "ExecuteTime": {
     "end_time": "2025-02-13T01:51:58.181073Z",
     "start_time": "2025-02-13T01:51:58.158976Z"
    }
   },
   "cell_type": "code",
   "source": [
    "# 在默认情况下，PyTorch会累积梯度，我们需要清除之前的值\n",
    "x.grad.zero_()\n",
    "y = x.sum()\n",
    "y.backward()\n",
    "x.grad"
   ],
   "id": "3f162696a00d6620",
   "outputs": [
    {
     "data": {
      "text/plain": [
       "tensor([1., 1., 1., 1.])"
      ]
     },
     "execution_count": 78,
     "metadata": {},
     "output_type": "execute_result"
    }
   ],
   "execution_count": 78
  },
  {
   "metadata": {
    "ExecuteTime": {
     "end_time": "2025-02-13T02:12:08.519807Z",
     "start_time": "2025-02-13T02:12:08.510065Z"
    }
   },
   "cell_type": "code",
   "source": [
    "# 对非标量调用backward需要传入一个gradient参数，该参数指定微分函数关于self的梯度。\n",
    "# 本例只想求偏导数的和，所以传递一个1的梯度是合适的\n",
    "x.grad.zero_()\n",
    "y = x * x\n",
    "# 等价于y.backward(torch.ones(len(x)))\n",
    "y.sum().backward() # only apply to scalar\n",
    "x.grad"
   ],
   "id": "ba78dea66bc57dc1",
   "outputs": [
    {
     "data": {
      "text/plain": [
       "tensor([0., 2., 4., 6.])"
      ]
     },
     "execution_count": 83,
     "metadata": {},
     "output_type": "execute_result"
    }
   ],
   "execution_count": 83
  },
  {
   "metadata": {
    "ExecuteTime": {
     "end_time": "2025-02-13T02:13:00.499886Z",
     "start_time": "2025-02-13T02:13:00.484106Z"
    }
   },
   "cell_type": "code",
   "source": [
    "x.grad.zero_()\n",
    "y = x * x\n",
    "u = y.detach() # u is independent of x\n",
    "z = u * x\n",
    "\n",
    "z.sum().backward()\n",
    "x.grad == u"
   ],
   "id": "8ff1e347f7ae1b86",
   "outputs": [
    {
     "data": {
      "text/plain": [
       "tensor([True, True, True, True])"
      ]
     },
     "execution_count": 84,
     "metadata": {},
     "output_type": "execute_result"
    }
   ],
   "execution_count": 84
  },
  {
   "metadata": {
    "ExecuteTime": {
     "end_time": "2025-02-13T02:17:04.735700Z",
     "start_time": "2025-02-13T02:17:04.728176Z"
    }
   },
   "cell_type": "code",
   "source": [
    "def f(a):\n",
    "    b = a * 2\n",
    "    while b.norm() < 1000:\n",
    "        b = b * 2\n",
    "    if b.sum() > 0:\n",
    "        c = b\n",
    "    else:\n",
    "        c = 100 * b\n",
    "    return c"
   ],
   "id": "93a95fac8bbcca0a",
   "outputs": [],
   "execution_count": 86
  },
  {
   "metadata": {
    "ExecuteTime": {
     "end_time": "2025-02-13T02:22:36.243432Z",
     "start_time": "2025-02-13T02:22:36.221886Z"
    }
   },
   "cell_type": "code",
   "source": [
    "a = torch.randn(size=(), requires_grad=True)\n",
    "d = f(a)\n",
    "d.backward()\n",
    "#a.grad == d / a"
   ],
   "id": "4902db0c368ce0b",
   "outputs": [
    {
     "data": {
      "text/plain": [
       "tensor(True)"
      ]
     },
     "execution_count": 99,
     "metadata": {},
     "output_type": "execute_result"
    }
   ],
   "execution_count": 99
  },
  {
   "metadata": {
    "ExecuteTime": {
     "end_time": "2025-02-13T02:22:08.559016Z",
     "start_time": "2025-02-13T02:22:08.555539Z"
    }
   },
   "cell_type": "code",
   "source": [
    "a = torch.randn(size=(2,3), requires_grad=True)\n",
    "a"
   ],
   "id": "5f41e9a804f1fa58",
   "outputs": [
    {
     "data": {
      "text/plain": [
       "tensor([[ 1.2670, -0.4228, -1.6668],\n",
       "        [-0.0671,  1.4506,  1.2191]], requires_grad=True)"
      ]
     },
     "execution_count": 97,
     "metadata": {},
     "output_type": "execute_result"
    }
   ],
   "execution_count": 97
  },
  {
   "metadata": {
    "ExecuteTime": {
     "end_time": "2025-02-13T02:23:15.788152Z",
     "start_time": "2025-02-13T02:23:15.770080Z"
    }
   },
   "cell_type": "code",
   "source": [
    "a = torch.randn(size=(2,3), requires_grad=True)\n",
    "d = f(a)"
   ],
   "id": "ce56627707f29913",
   "outputs": [],
   "execution_count": 102
  },
  {
   "metadata": {
    "ExecuteTime": {
     "end_time": "2025-02-13T04:11:59.155053Z",
     "start_time": "2025-02-13T04:11:59.152640Z"
    }
   },
   "cell_type": "code",
   "source": [
    "def f(x):\n",
    "    return torch.sin(x)"
   ],
   "id": "c0bdd3cb3e87eb65",
   "outputs": [],
   "execution_count": 152
  },
  {
   "metadata": {
    "ExecuteTime": {
     "end_time": "2025-02-13T04:14:53.397637Z",
     "start_time": "2025-02-13T04:14:53.393098Z"
    }
   },
   "cell_type": "code",
   "source": [
    "x = torch.linspace(0, 10, 100, requires_grad=True)\n",
    "# x.grad.zero_()\n",
    "y = torch.sin(x)\n",
    "y.sum().backward()\n",
    "f = x.grad"
   ],
   "id": "cc13aacc1d91e2d3",
   "outputs": [],
   "execution_count": 162
  },
  {
   "metadata": {
    "ExecuteTime": {
     "end_time": "2025-02-13T04:14:54.793833Z",
     "start_time": "2025-02-13T04:14:54.715428Z"
    }
   },
   "cell_type": "code",
   "source": [
    "x, y = x.detach().numpy(), y.detach().numpy()\n",
    "f = f.detach().numpy()\n",
    "plt.plot(x, y)\n",
    "plt.plot(x, f)"
   ],
   "id": "da23e0a2c8dfb094",
   "outputs": [
    {
     "data": {
      "text/plain": [
       "[<matplotlib.lines.Line2D at 0x31563f410>]"
      ]
     },
     "execution_count": 163,
     "metadata": {},
     "output_type": "execute_result"
    },
    {
     "data": {
      "text/plain": [
       "<Figure size 640x480 with 1 Axes>"
      ],
      "image/png": "[encoded data removed]"
     },
     "metadata": {},
     "output_type": "display_data"
    }
   ],
   "execution_count": 163
  },
  {
   "metadata": {
    "ExecuteTime": {
     "end_time": "2025-02-13T03:43:24.455054Z",
     "start_time": "2025-02-13T03:43:24.403068Z"
    }
   },
   "cell_type": "code",
   "source": [
    "g = f(d)\n",
    "g.backword()\n",
    "d.grad"
   ],
   "id": "179160deda8e2406",
   "outputs": [
    {
     "ename": "RuntimeError",
     "evalue": "Can't call numpy() on Tensor that requires grad. Use tensor.detach().numpy() instead.",
     "output_type": "error",
     "traceback": [
      "\u001B[0;31m---------------------------------------------------------------------------\u001B[0m",
      "\u001B[0;31mRuntimeError\u001B[0m                              Traceback (most recent call last)",
      "Cell \u001B[0;32mIn[119], line 2\u001B[0m\n\u001B[1;32m      1\u001B[0m d \u001B[38;5;241m=\u001B[39m torch\u001B[38;5;241m.\u001B[39mtensor(x, requires_grad\u001B[38;5;241m=\u001B[39m\u001B[38;5;28;01mTrue\u001B[39;00m)\n\u001B[0;32m----> 2\u001B[0m g \u001B[38;5;241m=\u001B[39m f(d)\n\u001B[1;32m      3\u001B[0m g\u001B[38;5;241m.\u001B[39mbackword()\n\u001B[1;32m      4\u001B[0m d\u001B[38;5;241m.\u001B[39mgrad\n",
      "Cell \u001B[0;32mIn[107], line 2\u001B[0m, in \u001B[0;36mf\u001B[0;34m(x)\u001B[0m\n\u001B[1;32m      1\u001B[0m \u001B[38;5;28;01mdef\u001B[39;00m\u001B[38;5;250m \u001B[39m\u001B[38;5;21mf\u001B[39m(x):\n\u001B[0;32m----> 2\u001B[0m     \u001B[38;5;28;01mreturn\u001B[39;00m np\u001B[38;5;241m.\u001B[39msin(x)\n",
      "File \u001B[0;32m/opt/anaconda3/lib/python3.11/site-packages/torch/_tensor.py:1149\u001B[0m, in \u001B[0;36mTensor.__array__\u001B[0;34m(self, dtype)\u001B[0m\n\u001B[1;32m   1147\u001B[0m     \u001B[38;5;28;01mreturn\u001B[39;00m handle_torch_function(Tensor\u001B[38;5;241m.\u001B[39m__array__, (\u001B[38;5;28mself\u001B[39m,), \u001B[38;5;28mself\u001B[39m, dtype\u001B[38;5;241m=\u001B[39mdtype)\n\u001B[1;32m   1148\u001B[0m \u001B[38;5;28;01mif\u001B[39;00m dtype \u001B[38;5;129;01mis\u001B[39;00m \u001B[38;5;28;01mNone\u001B[39;00m:\n\u001B[0;32m-> 1149\u001B[0m     \u001B[38;5;28;01mreturn\u001B[39;00m \u001B[38;5;28mself\u001B[39m\u001B[38;5;241m.\u001B[39mnumpy()\n\u001B[1;32m   1150\u001B[0m \u001B[38;5;28;01melse\u001B[39;00m:\n\u001B[1;32m   1151\u001B[0m     \u001B[38;5;28;01mreturn\u001B[39;00m \u001B[38;5;28mself\u001B[39m\u001B[38;5;241m.\u001B[39mnumpy()\u001B[38;5;241m.\u001B[39mastype(dtype, copy\u001B[38;5;241m=\u001B[39m\u001B[38;5;28;01mFalse\u001B[39;00m)\n",
      "\u001B[0;31mRuntimeError\u001B[0m: Can't call numpy() on Tensor that requires grad. Use tensor.detach().numpy() instead."
     ]
    }
   ],
   "execution_count": 119
  },
  {
   "metadata": {
    "ExecuteTime": {
     "end_time": "2025-02-13T06:55:45.548402Z",
     "start_time": "2025-02-13T06:55:45.489167Z"
    }
   },
   "cell_type": "code",
   "source": "fair_probs = torch.ones([6]) / 6",
   "id": "f99d374ac7d1f9bf",
   "outputs": [],
   "execution_count": 164
  },
  {
   "metadata": {
    "ExecuteTime": {
     "end_time": "2025-02-13T06:55:55.521888Z",
     "start_time": "2025-02-13T06:55:55.514575Z"
    }
   },
   "cell_type": "code",
   "source": "fair_probs",
   "id": "eb860355840f4f6f",
   "outputs": [
    {
     "data": {
      "text/plain": [
       "tensor([0.1667, 0.1667, 0.1667, 0.1667, 0.1667, 0.1667])"
      ]
     },
     "execution_count": 165,
     "metadata": {},
     "output_type": "execute_result"
    }
   ],
   "execution_count": 165
  },
  {
   "metadata": {
    "ExecuteTime": {
     "end_time": "2025-02-13T06:58:02.371833Z",
     "start_time": "2025-02-13T06:58:02.367359Z"
    }
   },
   "cell_type": "code",
   "source": [
    "from torch.distributions import multinomial\n",
    "multinomial.Multinomial(10, fair_probs).sample()"
   ],
   "id": "49dd070d7eb3f954",
   "outputs": [
    {
     "data": {
      "text/plain": [
       "tensor([2., 1., 1., 2., 1., 3.])"
      ]
     },
     "execution_count": 170,
     "metadata": {},
     "output_type": "execute_result"
    }
   ],
   "execution_count": 170
  },
  {
   "metadata": {
    "ExecuteTime": {
     "end_time": "2025-02-13T06:58:49.558907Z",
     "start_time": "2025-02-13T06:58:49.553206Z"
    }
   },
   "cell_type": "code",
   "source": [
    "# 将结果存储为32位浮点数以进行除法\n",
    "counts = multinomial.Multinomial(1000, fair_probs).sample()\n",
    "counts / 1000  # 相对频率作为估计值"
   ],
   "id": "4621358790358f74",
   "outputs": [
    {
     "data": {
      "text/plain": [
       "tensor([0.1540, 0.1560, 0.1840, 0.1580, 0.1740, 0.1740])"
      ]
     },
     "execution_count": 174,
     "metadata": {},
     "output_type": "execute_result"
    }
   ],
   "execution_count": 174
  },
  {
   "metadata": {
    "ExecuteTime": {
     "end_time": "2025-02-13T07:07:45.001897Z",
     "start_time": "2025-02-13T07:07:44.997962Z"
    }
   },
   "cell_type": "code",
   "source": [
    "counts = multinomial.Multinomial(10, fair_probs).sample((500,))\n",
    "cum_counts = counts.cumsum(dim=0)\n",
    "estimates = cum_counts / cum_counts.sum(dim=1, keepdims=True)\n",
    "estimates"
   ],
   "id": "a79bbf8d85d74f23",
   "outputs": [
    {
     "data": {
      "text/plain": [
       "tensor([[0.3000, 0.2000, 0.0000, 0.1000, 0.3000, 0.1000],\n",
       "        [0.2000, 0.2000, 0.0500, 0.2000, 0.2000, 0.1500],\n",
       "        [0.1667, 0.2333, 0.1000, 0.2000, 0.2000, 0.1000],\n",
       "        ...,\n",
       "        [0.1745, 0.1741, 0.1707, 0.1655, 0.1516, 0.1637],\n",
       "        [0.1741, 0.1739, 0.1703, 0.1655, 0.1519, 0.1641],\n",
       "        [0.1738, 0.1744, 0.1706, 0.1654, 0.1520, 0.1638]])"
      ]
     },
     "execution_count": 184,
     "metadata": {},
     "output_type": "execute_result"
    }
   ],
   "execution_count": 184
  },
  {
   "metadata": {
    "ExecuteTime": {
     "end_time": "2025-02-13T07:07:52.506517Z",
     "start_time": "2025-02-13T07:07:52.394289Z"
    }
   },
   "cell_type": "code",
   "source": [
    "# 绘制每一列随抽样次数的变化\n",
    "plt.figure(figsize=(10, 6))\n",
    "for i in range(estimates.shape[1]):  # 遍历每个事件（每列）\n",
    "    plt.plot(estimates[:, i].numpy(), label=f'Event {i+1}')\n",
    "\n",
    "plt.title('Estimated Probability of Each Event vs. Sample Count')\n",
    "plt.xlabel('Number of Samples')\n",
    "plt.ylabel('Estimated Probability')\n",
    "plt.legend()\n",
    "plt.grid(True)\n",
    "plt.tight_layout()\n",
    "plt.show()"
   ],
   "id": "bb48e56bb8510baf",
   "outputs": [
    {
     "data": {
      "text/plain": [
       "<Figure size 1000x600 with 1 Axes>"
      ],
      "image/png": "[encoded data removed]"
     },
     "metadata": {},
     "output_type": "display_data"
    }
   ],
   "execution_count": 185
  },
  {
   "metadata": {
    "ExecuteTime": {
     "end_time": "2025-02-13T13:01:22.373041Z",
     "start_time": "2025-02-13T13:01:22.299375Z"
    }
   },
   "cell_type": "code",
   "source": [
    "import torch\n",
    "import matplotlib.pyplot as plt\n",
    "\n",
    "# Parameters\n",
    "m = 500  # number of trials\n",
    "n = 10   # number of samples per trial\n",
    "\n",
    "# Function to perform the experiment\n",
    "def experiment(m, n):\n",
    "    # Initialize an empty list to store results\n",
    "    results = []\n",
    "\n",
    "    # Run the experiment for m trials\n",
    "    for _ in range(m):\n",
    "        # Generate n random samples from a normal distribution\n",
    "        samples = torch.randn(n)  # You can change the distribution as needed\n",
    "        mean = samples.mean()  # Compute the mean of the samples\n",
    "        results.append(mean.item())  # Store the result\n",
    "\n",
    "    return results\n",
    "\n",
    "# Perform the experiment\n",
    "results = experiment(m, n)\n",
    "\n",
    "# Analyze the results\n",
    "# Plot the distribution of sample means\n",
    "plt.hist(results, bins=20, edgecolor='black')\n",
    "plt.title(f'Distribution of Sample Means ({m} trials, {n} samples)')\n",
    "plt.xlabel('Mean Value')\n",
    "plt.ylabel('Frequency')\n",
    "plt.show()\n",
    "\n",
    "# Optionally, you can change m and n to observe how the results vary"
   ],
   "id": "b3917ce2c74122dd",
   "outputs": [
    {
     "data": {
      "text/plain": [
       "<Figure size 640x480 with 1 Axes>"
      ],
      "image/png": "[encoded data removed]"
     },
     "metadata": {},
     "output_type": "display_data"
    }
   ],
   "execution_count": 187
  }
 ],
 "metadata": {
  "kernelspec": {
   "display_name": "Python 3",
   "language": "python",
   "name": "python3"
  },
  "language_info": {
   "codemirror_mode": {
    "name": "ipython",
    "version": 2
   },
   "file_extension": ".py",
   "mimetype": "text/x-python",
   "name": "python",
   "nbconvert_exporter": "python",
   "pygments_lexer": "ipython2",
   "version": "2.7.6"
  }
 },
 "nbformat": 4,
 "nbformat_minor": 5
}
