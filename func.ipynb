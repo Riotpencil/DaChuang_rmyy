{
 "cells": [
  {
   "metadata": {},
   "cell_type": "code",
   "outputs": [],
   "execution_count": null,
   "source": [
    "def consensus_clustering(data, max_k=5, n_reps=100):\n",
    "    n_samples = data.shape[0]\n",
    "    results = {}\n",
    "\n",
    "    for k in range(2, max_k + 1):\n",
    "        consensus_matrix = np.zeros((n_samples, n_samples))\n",
    "        for rep in range(n_reps):\n",
    "            sample = resample(data, random_state=rep)\n",
    "            kmeans = KMeans(n_clusters=k, random_state=rep).fit(sample)\n",
    "            labels = kmeans.labels_    \n",
    "            for i in range(n_samples):\n",
    "                for j in range(n_samples):\n",
    "                    if labels[i] == labels[j]:\n",
    "                        consensus_matrix[i, j] += 1\n",
    "        consensus_matrix /= n_reps\n",
    "        results[k] = consensus_matrix\n",
    "\n",
    "    return results"
   ],
   "id": "691cdb5d76e96ee"
  },
  {
   "cell_type": "code",
   "execution_count": null,
   "id": "initial_id",
   "metadata": {
    "collapsed": true
   },
   "outputs": [],
   "source": [
    ""
   ]
  }
 ],
 "metadata": {
  "kernelspec": {
   "display_name": "Python 3",
   "language": "python",
   "name": "python3"
  },
  "language_info": {
   "codemirror_mode": {
    "name": "ipython",
    "version": 2
   },
   "file_extension": ".py",
   "mimetype": "text/x-python",
   "name": "python",
   "nbconvert_exporter": "python",
   "pygments_lexer": "ipython2",
   "version": "2.7.6"
  }
 },
 "nbformat": 4,
 "nbformat_minor": 5
}
